{
  "nbformat": 4,
  "nbformat_minor": 0,
  "metadata": {
    "colab": {
      "name": "MajorProject.ipynb",
      "provenance": [],
      "collapsed_sections": [],
      "authorship_tag": "ABX9TyM5Sa99HXSltw1mloNvTI1V",
      "include_colab_link": true
    },
    "kernelspec": {
      "name": "python3",
      "display_name": "Python 3"
    }
  },
  "cells": [
    {
      "cell_type": "markdown",
      "metadata": {
        "id": "view-in-github",
        "colab_type": "text"
      },
      "source": [
        "<a href=\"https://colab.research.google.com/github/velnata/Major-Project/blob/main/MajorProject.ipynb\" target=\"_parent\"><img src=\"https://colab.research.google.com/assets/colab-badge.svg\" alt=\"Open In Colab\"/></a>"
      ]
    },
    {
      "cell_type": "code",
      "metadata": {
        "id": "1R1PHPzcNI48"
      },
      "source": [
        "#warnings\n",
        "import warnings\n",
        "warnings.filterwarnings('ignore')\n",
        "\n"
      ],
      "execution_count": 1,
      "outputs": []
    },
    {
      "cell_type": "code",
      "metadata": {
        "id": "92kN_-zsEgxG",
        "outputId": "29fae6f4-c228-4437-e1ae-045542f5f72d",
        "colab": {
          "base_uri": "https://localhost:8080/"
        }
      },
      "source": [
        "import nltk\n",
        "nltk.download('stopwords')"
      ],
      "execution_count": 2,
      "outputs": [
        {
          "output_type": "stream",
          "text": [
            "[nltk_data] Downloading package stopwords to /root/nltk_data...\n",
            "[nltk_data]   Package stopwords is already up-to-date!\n"
          ],
          "name": "stdout"
        },
        {
          "output_type": "execute_result",
          "data": {
            "text/plain": [
              "True"
            ]
          },
          "metadata": {
            "tags": []
          },
          "execution_count": 2
        }
      ]
    },
    {
      "cell_type": "markdown",
      "metadata": {
        "id": "iw8xqTlt8tZ6"
      },
      "source": [
        "Data collection and importing"
      ]
    },
    {
      "cell_type": "code",
      "metadata": {
        "id": "LG3IewCSEilL"
      },
      "source": [
        "import pandas as pd\n",
        "import numpy as np\n",
        "\n",
        "data = pd.read_csv('/content/train.csv')"
      ],
      "execution_count": 3,
      "outputs": []
    },
    {
      "cell_type": "code",
      "metadata": {
        "id": "u1P7BS0vEuUh",
        "outputId": "69b3e95a-be73-4dae-a345-989c8bbf33da",
        "colab": {
          "base_uri": "https://localhost:8080/"
        }
      },
      "source": [
        "data.shape"
      ],
      "execution_count": 4,
      "outputs": [
        {
          "output_type": "execute_result",
          "data": {
            "text/plain": [
              "(38932, 5)"
            ]
          },
          "metadata": {
            "tags": []
          },
          "execution_count": 4
        }
      ]
    },
    {
      "cell_type": "code",
      "metadata": {
        "id": "5Xa8Mb7BGPxw",
        "outputId": "d9ba91c6-c0dc-4f2e-e24b-49c1f66474d1",
        "colab": {
          "base_uri": "https://localhost:8080/",
          "height": 195
        }
      },
      "source": [
        "data.head(5)"
      ],
      "execution_count": 5,
      "outputs": [
        {
          "output_type": "execute_result",
          "data": {
            "text/html": [
              "<div>\n",
              "<style scoped>\n",
              "    .dataframe tbody tr th:only-of-type {\n",
              "        vertical-align: middle;\n",
              "    }\n",
              "\n",
              "    .dataframe tbody tr th {\n",
              "        vertical-align: top;\n",
              "    }\n",
              "\n",
              "    .dataframe thead th {\n",
              "        text-align: right;\n",
              "    }\n",
              "</style>\n",
              "<table border=\"1\" class=\"dataframe\">\n",
              "  <thead>\n",
              "    <tr style=\"text-align: right;\">\n",
              "      <th></th>\n",
              "      <th>User_ID</th>\n",
              "      <th>Description</th>\n",
              "      <th>Browser_Used</th>\n",
              "      <th>Device_Used</th>\n",
              "      <th>Is_Response</th>\n",
              "    </tr>\n",
              "  </thead>\n",
              "  <tbody>\n",
              "    <tr>\n",
              "      <th>0</th>\n",
              "      <td>id10326</td>\n",
              "      <td>The room was kind of clean but had a VERY stro...</td>\n",
              "      <td>Edge</td>\n",
              "      <td>Mobile</td>\n",
              "      <td>not happy</td>\n",
              "    </tr>\n",
              "    <tr>\n",
              "      <th>1</th>\n",
              "      <td>id10327</td>\n",
              "      <td>I stayed at the Crown Plaza April -- - April -...</td>\n",
              "      <td>Internet Explorer</td>\n",
              "      <td>Mobile</td>\n",
              "      <td>not happy</td>\n",
              "    </tr>\n",
              "    <tr>\n",
              "      <th>2</th>\n",
              "      <td>id10328</td>\n",
              "      <td>I booked this hotel through Hotwire at the low...</td>\n",
              "      <td>Mozilla</td>\n",
              "      <td>Tablet</td>\n",
              "      <td>not happy</td>\n",
              "    </tr>\n",
              "    <tr>\n",
              "      <th>3</th>\n",
              "      <td>id10329</td>\n",
              "      <td>Stayed here with husband and sons on the way t...</td>\n",
              "      <td>InternetExplorer</td>\n",
              "      <td>Desktop</td>\n",
              "      <td>happy</td>\n",
              "    </tr>\n",
              "    <tr>\n",
              "      <th>4</th>\n",
              "      <td>id10330</td>\n",
              "      <td>My girlfriends and I stayed here to celebrate ...</td>\n",
              "      <td>Edge</td>\n",
              "      <td>Tablet</td>\n",
              "      <td>not happy</td>\n",
              "    </tr>\n",
              "  </tbody>\n",
              "</table>\n",
              "</div>"
            ],
            "text/plain": [
              "   User_ID  ... Is_Response\n",
              "0  id10326  ...   not happy\n",
              "1  id10327  ...   not happy\n",
              "2  id10328  ...   not happy\n",
              "3  id10329  ...       happy\n",
              "4  id10330  ...   not happy\n",
              "\n",
              "[5 rows x 5 columns]"
            ]
          },
          "metadata": {
            "tags": []
          },
          "execution_count": 5
        }
      ]
    },
    {
      "cell_type": "code",
      "metadata": {
        "id": "tofHPjV_GTxm",
        "outputId": "218ebd31-dfd5-43f0-ec49-538904ff0fbb",
        "colab": {
          "base_uri": "https://localhost:8080/",
          "height": 212
        }
      },
      "source": [
        "count = data.isnull().sum().sort_values(ascending=False)\n",
        "percentage = ((data.isnull().sum()/len(data)*100)).sort_values(ascending=False)\n",
        "missing_data = pd.concat([count,percentage], axis=1,\n",
        "                         keys=['Count','Percentage'])\n",
        "\n",
        "print('Count and Percentage of missing values for the columns: ')\n",
        "\n",
        "missing_data\n"
      ],
      "execution_count": 6,
      "outputs": [
        {
          "output_type": "stream",
          "text": [
            "Count and Percentage of missing values for the columns: \n"
          ],
          "name": "stdout"
        },
        {
          "output_type": "execute_result",
          "data": {
            "text/html": [
              "<div>\n",
              "<style scoped>\n",
              "    .dataframe tbody tr th:only-of-type {\n",
              "        vertical-align: middle;\n",
              "    }\n",
              "\n",
              "    .dataframe tbody tr th {\n",
              "        vertical-align: top;\n",
              "    }\n",
              "\n",
              "    .dataframe thead th {\n",
              "        text-align: right;\n",
              "    }\n",
              "</style>\n",
              "<table border=\"1\" class=\"dataframe\">\n",
              "  <thead>\n",
              "    <tr style=\"text-align: right;\">\n",
              "      <th></th>\n",
              "      <th>Count</th>\n",
              "      <th>Percentage</th>\n",
              "    </tr>\n",
              "  </thead>\n",
              "  <tbody>\n",
              "    <tr>\n",
              "      <th>Is_Response</th>\n",
              "      <td>0</td>\n",
              "      <td>0.0</td>\n",
              "    </tr>\n",
              "    <tr>\n",
              "      <th>Device_Used</th>\n",
              "      <td>0</td>\n",
              "      <td>0.0</td>\n",
              "    </tr>\n",
              "    <tr>\n",
              "      <th>Browser_Used</th>\n",
              "      <td>0</td>\n",
              "      <td>0.0</td>\n",
              "    </tr>\n",
              "    <tr>\n",
              "      <th>Description</th>\n",
              "      <td>0</td>\n",
              "      <td>0.0</td>\n",
              "    </tr>\n",
              "    <tr>\n",
              "      <th>User_ID</th>\n",
              "      <td>0</td>\n",
              "      <td>0.0</td>\n",
              "    </tr>\n",
              "  </tbody>\n",
              "</table>\n",
              "</div>"
            ],
            "text/plain": [
              "              Count  Percentage\n",
              "Is_Response       0         0.0\n",
              "Device_Used       0         0.0\n",
              "Browser_Used      0         0.0\n",
              "Description       0         0.0\n",
              "User_ID           0         0.0"
            ]
          },
          "metadata": {
            "tags": []
          },
          "execution_count": 6
        }
      ]
    },
    {
      "cell_type": "code",
      "metadata": {
        "id": "qCx4O_xlGdD0",
        "outputId": "0f2ab4e1-d8a8-471c-cfc7-8725a575bfeb",
        "colab": {
          "base_uri": "https://localhost:8080/",
          "height": 406
        }
      },
      "source": [
        "## Checking for the distribution of Default\n",
        "import matplotlib.pyplot as plt\n",
        "%matplotlib inline\n",
        "print('Percentage for default\\n')\n",
        "print(round(data.Is_Response.value_counts(normalize=True)*100,2))\n",
        "round(data.Is_Response.value_counts(normalize=True)*100,2).plot(kind='bar')\n",
        "plt.title('Percentage Distribution by Review Type')\n",
        "plt.show()"
      ],
      "execution_count": 7,
      "outputs": [
        {
          "output_type": "stream",
          "text": [
            "Percentage for default\n",
            "\n",
            "happy        68.12\n",
            "not happy    31.88\n",
            "Name: Is_Response, dtype: float64\n"
          ],
          "name": "stdout"
        },
        {
          "output_type": "display_data",
          "data": {
            "image/png": "[encoded data removed]",
            "text/plain": [
              "<Figure size 432x288 with 1 Axes>"
            ]
          },
          "metadata": {
            "tags": [],
            "needs_background": "light"
          }
        }
      ]
    },
    {
      "cell_type": "code",
      "metadata": {
        "id": "N5Zuh-QDH7Pu"
      },
      "source": [
        "#Removing Columns\n",
        "data.drop(columns=['User_ID','Browser_Used','Device_Used'], inplace = True)"
      ],
      "execution_count": 8,
      "outputs": []
    },
    {
      "cell_type": "markdown",
      "metadata": {
        "id": "24nb-0tKISq5"
      },
      "source": [
        "Cleaning the data"
      ]
    },
    {
      "cell_type": "code",
      "metadata": {
        "id": "tdPdKajCIUA3"
      },
      "source": [
        "import re\n",
        "import string\n",
        "\n",
        "def text_clean_1(text):\n",
        "  text = text.lower()\n",
        "  text = re.sub('\\[.*?\\]','',text)\n",
        "  text = re.sub('[%s]' % re.escape(string.punctuation), '',text)\n",
        "  text = re.sub('\\w*\\d\\w*', '',text)\n",
        "  return text\n",
        "\n",
        "cleaned1=lambda x: text_clean_1(x)"
      ],
      "execution_count": 9,
      "outputs": []
    },
    {
      "cell_type": "code",
      "metadata": {
        "id": "pEuBi2SGJEsL",
        "outputId": "be84cd2d-7fbd-451b-eefe-3859c4bf6cf1",
        "colab": {
          "base_uri": "https://localhost:8080/",
          "height": 343
        }
      },
      "source": [
        "data['cleaned_description'] = pd.DataFrame(data.Description.apply(cleaned1))\n",
        "data.head(10)"
      ],
      "execution_count": 10,
      "outputs": [
        {
          "output_type": "execute_result",
          "data": {
            "text/html": [
              "<div>\n",
              "<style scoped>\n",
              "    .dataframe tbody tr th:only-of-type {\n",
              "        vertical-align: middle;\n",
              "    }\n",
              "\n",
              "    .dataframe tbody tr th {\n",
              "        vertical-align: top;\n",
              "    }\n",
              "\n",
              "    .dataframe thead th {\n",
              "        text-align: right;\n",
              "    }\n",
              "</style>\n",
              "<table border=\"1\" class=\"dataframe\">\n",
              "  <thead>\n",
              "    <tr style=\"text-align: right;\">\n",
              "      <th></th>\n",
              "      <th>Description</th>\n",
              "      <th>Is_Response</th>\n",
              "      <th>cleaned_description</th>\n",
              "    </tr>\n",
              "  </thead>\n",
              "  <tbody>\n",
              "    <tr>\n",
              "      <th>0</th>\n",
              "      <td>The room was kind of clean but had a VERY stro...</td>\n",
              "      <td>not happy</td>\n",
              "      <td>the room was kind of clean but had a very stro...</td>\n",
              "    </tr>\n",
              "    <tr>\n",
              "      <th>1</th>\n",
              "      <td>I stayed at the Crown Plaza April -- - April -...</td>\n",
              "      <td>not happy</td>\n",
              "      <td>i stayed at the crown plaza april   april   th...</td>\n",
              "    </tr>\n",
              "    <tr>\n",
              "      <th>2</th>\n",
              "      <td>I booked this hotel through Hotwire at the low...</td>\n",
              "      <td>not happy</td>\n",
              "      <td>i booked this hotel through hotwire at the low...</td>\n",
              "    </tr>\n",
              "    <tr>\n",
              "      <th>3</th>\n",
              "      <td>Stayed here with husband and sons on the way t...</td>\n",
              "      <td>happy</td>\n",
              "      <td>stayed here with husband and sons on the way t...</td>\n",
              "    </tr>\n",
              "    <tr>\n",
              "      <th>4</th>\n",
              "      <td>My girlfriends and I stayed here to celebrate ...</td>\n",
              "      <td>not happy</td>\n",
              "      <td>my girlfriends and i stayed here to celebrate ...</td>\n",
              "    </tr>\n",
              "    <tr>\n",
              "      <th>5</th>\n",
              "      <td>We had - rooms. One was very nice and clearly ...</td>\n",
              "      <td>happy</td>\n",
              "      <td>we had  rooms one was very nice and clearly ha...</td>\n",
              "    </tr>\n",
              "    <tr>\n",
              "      <th>6</th>\n",
              "      <td>My husband and I have stayed in this hotel a f...</td>\n",
              "      <td>not happy</td>\n",
              "      <td>my husband and i have stayed in this hotel a f...</td>\n",
              "    </tr>\n",
              "    <tr>\n",
              "      <th>7</th>\n",
              "      <td>My wife &amp; I stayed in this glorious city a whi...</td>\n",
              "      <td>happy</td>\n",
              "      <td>my wife  i stayed in this glorious city a whil...</td>\n",
              "    </tr>\n",
              "    <tr>\n",
              "      <th>8</th>\n",
              "      <td>My boyfriend and I stayed at the Fairmont on a...</td>\n",
              "      <td>happy</td>\n",
              "      <td>my boyfriend and i stayed at the fairmont on a...</td>\n",
              "    </tr>\n",
              "    <tr>\n",
              "      <th>9</th>\n",
              "      <td>Wonderful staff, great location, but it was de...</td>\n",
              "      <td>not happy</td>\n",
              "      <td>wonderful staff great location but it was defi...</td>\n",
              "    </tr>\n",
              "  </tbody>\n",
              "</table>\n",
              "</div>"
            ],
            "text/plain": [
              "                                         Description  ...                                cleaned_description\n",
              "0  The room was kind of clean but had a VERY stro...  ...  the room was kind of clean but had a very stro...\n",
              "1  I stayed at the Crown Plaza April -- - April -...  ...  i stayed at the crown plaza april   april   th...\n",
              "2  I booked this hotel through Hotwire at the low...  ...  i booked this hotel through hotwire at the low...\n",
              "3  Stayed here with husband and sons on the way t...  ...  stayed here with husband and sons on the way t...\n",
              "4  My girlfriends and I stayed here to celebrate ...  ...  my girlfriends and i stayed here to celebrate ...\n",
              "5  We had - rooms. One was very nice and clearly ...  ...  we had  rooms one was very nice and clearly ha...\n",
              "6  My husband and I have stayed in this hotel a f...  ...  my husband and i have stayed in this hotel a f...\n",
              "7  My wife & I stayed in this glorious city a whi...  ...  my wife  i stayed in this glorious city a whil...\n",
              "8  My boyfriend and I stayed at the Fairmont on a...  ...  my boyfriend and i stayed at the fairmont on a...\n",
              "9  Wonderful staff, great location, but it was de...  ...  wonderful staff great location but it was defi...\n",
              "\n",
              "[10 rows x 3 columns]"
            ]
          },
          "metadata": {
            "tags": []
          },
          "execution_count": 10
        }
      ]
    },
    {
      "cell_type": "code",
      "metadata": {
        "id": "zsH7OR1EJQtE"
      },
      "source": [
        "#one more time we shall clean\n",
        "def text_clean_2(text):\n",
        "  text = re.sub('[''\"\"...]', '', text)\n",
        "  text = re.sub('\\n', '',text)\n",
        "  return text\n",
        "\n",
        "cleaned2=lambda x: text_clean_2(x)"
      ],
      "execution_count": 11,
      "outputs": []
    },
    {
      "cell_type": "code",
      "metadata": {
        "id": "EisW1qVdKpEg",
        "outputId": "370e3624-ae00-4516-a067-39d810b16711",
        "colab": {
          "base_uri": "https://localhost:8080/",
          "height": 343
        }
      },
      "source": [
        "data['cleaned_description_new'] = pd.DataFrame(data['cleaned_description'].apply(cleaned2))\n",
        "data.head(10)"
      ],
      "execution_count": 12,
      "outputs": [
        {
          "output_type": "execute_result",
          "data": {
            "text/html": [
              "<div>\n",
              "<style scoped>\n",
              "    .dataframe tbody tr th:only-of-type {\n",
              "        vertical-align: middle;\n",
              "    }\n",
              "\n",
              "    .dataframe tbody tr th {\n",
              "        vertical-align: top;\n",
              "    }\n",
              "\n",
              "    .dataframe thead th {\n",
              "        text-align: right;\n",
              "    }\n",
              "</style>\n",
              "<table border=\"1\" class=\"dataframe\">\n",
              "  <thead>\n",
              "    <tr style=\"text-align: right;\">\n",
              "      <th></th>\n",
              "      <th>Description</th>\n",
              "      <th>Is_Response</th>\n",
              "      <th>cleaned_description</th>\n",
              "      <th>cleaned_description_new</th>\n",
              "    </tr>\n",
              "  </thead>\n",
              "  <tbody>\n",
              "    <tr>\n",
              "      <th>0</th>\n",
              "      <td>The room was kind of clean but had a VERY stro...</td>\n",
              "      <td>not happy</td>\n",
              "      <td>the room was kind of clean but had a very stro...</td>\n",
              "      <td>the room was kind of clean but had a very stro...</td>\n",
              "    </tr>\n",
              "    <tr>\n",
              "      <th>1</th>\n",
              "      <td>I stayed at the Crown Plaza April -- - April -...</td>\n",
              "      <td>not happy</td>\n",
              "      <td>i stayed at the crown plaza april   april   th...</td>\n",
              "      <td>i stayed at the crown plaza april   april   th...</td>\n",
              "    </tr>\n",
              "    <tr>\n",
              "      <th>2</th>\n",
              "      <td>I booked this hotel through Hotwire at the low...</td>\n",
              "      <td>not happy</td>\n",
              "      <td>i booked this hotel through hotwire at the low...</td>\n",
              "      <td>i booked this hotel through hotwire at the low...</td>\n",
              "    </tr>\n",
              "    <tr>\n",
              "      <th>3</th>\n",
              "      <td>Stayed here with husband and sons on the way t...</td>\n",
              "      <td>happy</td>\n",
              "      <td>stayed here with husband and sons on the way t...</td>\n",
              "      <td>stayed here with husband and sons on the way t...</td>\n",
              "    </tr>\n",
              "    <tr>\n",
              "      <th>4</th>\n",
              "      <td>My girlfriends and I stayed here to celebrate ...</td>\n",
              "      <td>not happy</td>\n",
              "      <td>my girlfriends and i stayed here to celebrate ...</td>\n",
              "      <td>my girlfriends and i stayed here to celebrate ...</td>\n",
              "    </tr>\n",
              "    <tr>\n",
              "      <th>5</th>\n",
              "      <td>We had - rooms. One was very nice and clearly ...</td>\n",
              "      <td>happy</td>\n",
              "      <td>we had  rooms one was very nice and clearly ha...</td>\n",
              "      <td>we had  rooms one was very nice and clearly ha...</td>\n",
              "    </tr>\n",
              "    <tr>\n",
              "      <th>6</th>\n",
              "      <td>My husband and I have stayed in this hotel a f...</td>\n",
              "      <td>not happy</td>\n",
              "      <td>my husband and i have stayed in this hotel a f...</td>\n",
              "      <td>my husband and i have stayed in this hotel a f...</td>\n",
              "    </tr>\n",
              "    <tr>\n",
              "      <th>7</th>\n",
              "      <td>My wife &amp; I stayed in this glorious city a whi...</td>\n",
              "      <td>happy</td>\n",
              "      <td>my wife  i stayed in this glorious city a whil...</td>\n",
              "      <td>my wife  i stayed in this glorious city a whil...</td>\n",
              "    </tr>\n",
              "    <tr>\n",
              "      <th>8</th>\n",
              "      <td>My boyfriend and I stayed at the Fairmont on a...</td>\n",
              "      <td>happy</td>\n",
              "      <td>my boyfriend and i stayed at the fairmont on a...</td>\n",
              "      <td>my boyfriend and i stayed at the fairmont on a...</td>\n",
              "    </tr>\n",
              "    <tr>\n",
              "      <th>9</th>\n",
              "      <td>Wonderful staff, great location, but it was de...</td>\n",
              "      <td>not happy</td>\n",
              "      <td>wonderful staff great location but it was defi...</td>\n",
              "      <td>wonderful staff great location but it was defi...</td>\n",
              "    </tr>\n",
              "  </tbody>\n",
              "</table>\n",
              "</div>"
            ],
            "text/plain": [
              "                                         Description  ...                            cleaned_description_new\n",
              "0  The room was kind of clean but had a VERY stro...  ...  the room was kind of clean but had a very stro...\n",
              "1  I stayed at the Crown Plaza April -- - April -...  ...  i stayed at the crown plaza april   april   th...\n",
              "2  I booked this hotel through Hotwire at the low...  ...  i booked this hotel through hotwire at the low...\n",
              "3  Stayed here with husband and sons on the way t...  ...  stayed here with husband and sons on the way t...\n",
              "4  My girlfriends and I stayed here to celebrate ...  ...  my girlfriends and i stayed here to celebrate ...\n",
              "5  We had - rooms. One was very nice and clearly ...  ...  we had  rooms one was very nice and clearly ha...\n",
              "6  My husband and I have stayed in this hotel a f...  ...  my husband and i have stayed in this hotel a f...\n",
              "7  My wife & I stayed in this glorious city a whi...  ...  my wife  i stayed in this glorious city a whil...\n",
              "8  My boyfriend and I stayed at the Fairmont on a...  ...  my boyfriend and i stayed at the fairmont on a...\n",
              "9  Wonderful staff, great location, but it was de...  ...  wonderful staff great location but it was defi...\n",
              "\n",
              "[10 rows x 4 columns]"
            ]
          },
          "metadata": {
            "tags": []
          },
          "execution_count": 12
        }
      ]
    },
    {
      "cell_type": "markdown",
      "metadata": {
        "id": "b5mXqyFjLEqR"
      },
      "source": [
        "Model Training"
      ]
    },
    {
      "cell_type": "code",
      "metadata": {
        "id": "87dCDO4NLA1G",
        "outputId": "2fa4c4cc-7b8c-4693-aa42-8515da28d9c7",
        "colab": {
          "base_uri": "https://localhost:8080/"
        }
      },
      "source": [
        "from sklearn.model_selection import train_test_split\n",
        "\n",
        "Independent_var = data.cleaned_description_new\n",
        "Dependent_var = data.Is_Response\n",
        "\n",
        "IV_train, IV_test, DV_train, DV_test = train_test_split(Independent_var, Dependent_var, test_size = 0.1, random_state= 225)\n",
        "\n",
        "print('IV_train:', len(IV_train))\n",
        "print('IV_test:', len(IV_test))\n",
        "print('DV_train:', len(DV_train))\n",
        "print('DV_test:', len(DV_test))"
      ],
      "execution_count": 13,
      "outputs": [
        {
          "output_type": "stream",
          "text": [
            "IV_train: 35038\n",
            "IV_test: 3894\n",
            "DV_train: 35038\n",
            "DV_test: 3894\n"
          ],
          "name": "stdout"
        }
      ]
    },
    {
      "cell_type": "code",
      "metadata": {
        "id": "2rLMO0FkMAYF"
      },
      "source": [
        "from sklearn.feature_extraction.text import TfidfVectorizer\n",
        "from sklearn.linear_model import LogisticRegression\n",
        "\n",
        "tvec = TfidfVectorizer()\n",
        "clf2 = LogisticRegression(solver = 'lbfgs')\n",
        "\n",
        "from sklearn.pipeline import Pipeline"
      ],
      "execution_count": 14,
      "outputs": []
    },
    {
      "cell_type": "code",
      "metadata": {
        "id": "EK-3vnYrMeny",
        "outputId": "c8ad6e2e-0b0c-4b14-ef0d-d178426ad6d6",
        "colab": {
          "base_uri": "https://localhost:8080/"
        }
      },
      "source": [
        "model = Pipeline([('vectorizer',tvec),('classifier',clf2)])\n",
        "model.fit(IV_train, DV_train)\n",
        "\n",
        "from sklearn.metrics import confusion_matrix\n",
        "predictions = model.predict(IV_test)\n",
        "confusion_matrix(predictions, DV_test)"
      ],
      "execution_count": 15,
      "outputs": [
        {
          "output_type": "execute_result",
          "data": {
            "text/plain": [
              "array([[2417,  304],\n",
              "       [ 154, 1019]])"
            ]
          },
          "metadata": {
            "tags": []
          },
          "execution_count": 15
        }
      ]
    },
    {
      "cell_type": "markdown",
      "metadata": {
        "id": "6q01UYVONooU"
      },
      "source": [
        "Model Prediction"
      ]
    },
    {
      "cell_type": "code",
      "metadata": {
        "id": "grMLQaW8M8XC",
        "outputId": "95c08cd2-7cdf-49dc-ab32-7e9ad3ca7f24",
        "colab": {
          "base_uri": "https://localhost:8080/"
        }
      },
      "source": [
        "from sklearn.metrics import accuracy_score, precision_score, recall_score\n",
        "\n",
        "print(\"Accuracy : \", accuracy_score(predictions, DV_test))\n",
        "print(\"Precision : \", precision_score(predictions, DV_test, average = 'weighted'))\n",
        "print(\"Recall : \", recall_score(predictions, DV_test, average='weighted'))"
      ],
      "execution_count": 16,
      "outputs": [
        {
          "output_type": "stream",
          "text": [
            "Accuracy :  0.8823831535695943\n",
            "Precision :  0.8889271415963718\n",
            "Recall :  0.8823831535695943\n"
          ],
          "name": "stdout"
        }
      ]
    },
    {
      "cell_type": "markdown",
      "metadata": {
        "id": "Wd0bih0POcIs"
      },
      "source": [
        "Testing new reviews"
      ]
    },
    {
      "cell_type": "code",
      "metadata": {
        "id": "ZQ7yj9mkOR_0",
        "outputId": "20c13477-b3a5-4f23-f292-56eb57a315e5",
        "colab": {
          "base_uri": "https://localhost:8080/"
        }
      },
      "source": [
        "test1 = [\"I'm happy\" ]\n",
        "result = model.predict(test1)\n",
        "\n",
        "print(result)"
      ],
      "execution_count": 17,
      "outputs": [
        {
          "output_type": "stream",
          "text": [
            "['happy']\n"
          ],
          "name": "stdout"
        }
      ]
    },
    {
      "cell_type": "markdown",
      "metadata": {
        "id": "iEAeG-ApyK1r"
      },
      "source": [
        "Deployment in Web App(Streamlit)"
      ]
    },
    {
      "cell_type": "code",
      "metadata": {
        "id": "nAJ3u4Vc54c7",
        "outputId": "c7dd5ce0-aa02-420f-8c7d-a61ecd811212",
        "colab": {
          "base_uri": "https://localhost:8080/"
        }
      },
      "source": [
        "!pip install pyngrok"
      ],
      "execution_count": 36,
      "outputs": [
        {
          "output_type": "stream",
          "text": [
            "Requirement already satisfied: pyngrok in /usr/local/lib/python3.6/dist-packages (5.0.0)\n",
            "Requirement already satisfied: PyYAML in /usr/local/lib/python3.6/dist-packages (from pyngrok) (3.13)\n"
          ],
          "name": "stdout"
        }
      ]
    },
    {
      "cell_type": "code",
      "metadata": {
        "id": "9600LBms54AG"
      },
      "source": [
        "!pip install streamlit"
      ],
      "execution_count": null,
      "outputs": []
    },
    {
      "cell_type": "code",
      "metadata": {
        "id": "hsdjFjinyvvx",
        "outputId": "7c4e6199-134b-4662-8b54-95a9147fcab9",
        "colab": {
          "base_uri": "https://localhost:8080/"
        }
      },
      "source": [
        "%%writefile app.py\n",
        "import streamlit as st\n",
        "import pandas as pd\n",
        "import numpy as np\n",
        "from sklearn.pipeline import Pipeline\n",
        "from sklearn.feature_extraction.text import TfidfVectorizer\n",
        "from sklearn.linear_model import LogisticRegression\n",
        "\n",
        "df=pd.read_table('/content/train.csv')\n",
        "x =df.iloc[:,1].values #Message input\n",
        "y = df.ilox[:,0].values#output message\n",
        "st.title('Sentiment Analysis of Hotel-Review')\n",
        "st.subheader('TFIDF Vectorization')\n",
        "st.write('This project is based on Logistic Regression')\n",
        "\n",
        "model = Pipeline([('vectorizer',tvec),('classifier',clf2)])\n",
        "model.fit(IV_train, DV_train)\n",
        "message= st.text_area(\"Enter the text\")\n",
        "op = model.predict([message])\n",
        "if st.button(\"Predict\"):\n",
        "  st.title(op)"
      ],
      "execution_count": 33,
      "outputs": [
        {
          "output_type": "stream",
          "text": [
            "Overwriting app.py\n"
          ],
          "name": "stdout"
        }
      ]
    },
    {
      "cell_type": "code",
      "metadata": {
        "id": "bndBtmw474iL"
      },
      "source": [
        "from pyngrok import ngrok\n",
        "url = ngrok.connect(port='8051')\n",
        "url"
      ],
      "execution_count": 37,
      "outputs": []
    }
  ]
}